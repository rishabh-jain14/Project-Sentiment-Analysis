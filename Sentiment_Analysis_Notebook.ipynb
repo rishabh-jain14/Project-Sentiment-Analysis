{
 "cells": [
  {
   "cell_type": "markdown",
   "metadata": {},
   "source": [
    "# Sentiment Analysis\n",
    "\n",
    "## First Thing we need to do is import all the required libraries\n",
    "\n",
    "    1. Data manipulation libraries like numpy, pandas for extraction of data from datasets and to perform data cleaning\n",
    "    2. Regex is used to recognize various patterns in the string/tweets\n",
    "    3. NLTK is used to perform feature extraction and text analysis (also, for twitter_samples database)\n",
    "    4. matplotlib.pyplot and seaborn for proper visualization of the data\n",
    "    5. stopwords to provide irrelevance to words like {\"I\", \"you\", \"the\", \"him\", \"for\", ...}\n",
    "    6. wordcloud for creating wordclouds to assess the frequently occuring words of dominant emotional significance.\n"
   ]
  },
  {
   "cell_type": "code",
   "execution_count": null,
   "metadata": {},
   "outputs": [],
   "source": [
    "import pandas as pd\n",
    "import numpy as np\n",
    "import re\n",
    "\n",
    "import matplotlib.pyplot as plt\n",
    "import seaborn as sns\n",
    "color = sns.color_palette()\n",
    "%matplotlib inline\n",
    "\n",
    "import plotly.express as px\n",
    "\n",
    "import nltk\n",
    "from nltk.corpus import stopwords\n",
    "\n",
    "import wordcloud\n",
    "from wordcloud import WordCloud, STOPWORDS"
   ]
  },
  {
   "cell_type": "markdown",
   "metadata": {},
   "source": [
    "## DataSet Collection and Pre-Processing\n",
    "\n",
    "### We will be using the Reviews.csv file from Kaggle’s Amazon Fine Food Reviews dataset to perform the analysis. This Dataset includes 568454 reviews with their individual scores (1 to 5)\n",
    "\n",
    "#### (Mostly contains Positive Reviews)"
   ]
  },
  {
   "cell_type": "code",
   "execution_count": null,
   "metadata": {},
   "outputs": [],
   "source": [
    "food = pd.read_csv(\"Amazon Fine Foods/Reviews.csv\")"
   ]
  },
  {
   "cell_type": "code",
   "execution_count": null,
   "metadata": {
    "scrolled": true
   },
   "outputs": [],
   "source": [
    "food.head()"
   ]
  },
  {
   "cell_type": "code",
   "execution_count": null,
   "metadata": {},
   "outputs": [],
   "source": [
    "food.describe()"
   ]
  },
  {
   "cell_type": "markdown",
   "metadata": {},
   "source": [
    "Removing all the unnecessary columns leaving only the text itself and the score to it"
   ]
  },
  {
   "cell_type": "code",
   "execution_count": null,
   "metadata": {},
   "outputs": [],
   "source": [
    "food = food.drop(['Id', 'ProductId', 'Summary', 'UserId', 'ProfileName', 'Time', 'HelpfulnessNumerator', 'HelpfulnessDenominator'], axis = 1)"
   ]
  },
  {
   "cell_type": "markdown",
   "metadata": {},
   "source": [
    "Text — This variable contains the complete product review information\n",
    "\n",
    "Score — The product rating provided by the customer"
   ]
  },
  {
   "cell_type": "code",
   "execution_count": null,
   "metadata": {},
   "outputs": [],
   "source": [
    "food.head()"
   ]
  },
  {
   "cell_type": "markdown",
   "metadata": {},
   "source": [
    "We must define a system that evaluates the text as positive/negative on the basis of the score given to it. We assume that the score 1 and 2 indicate a negative response (sad/angry/unsatisfied), 3 indicates a neutral response and 4 and 5 indicate a postove response (happy/calm/satisfied). So, we define a new column names 'Response'"
   ]
  },
  {
   "cell_type": "code",
   "execution_count": null,
   "metadata": {},
   "outputs": [],
   "source": [
    "conditions = [(food['Score'] > 3), (food['Score'] == 3), (food['Score'] < 3)]\n",
    "food['Response'] = np.select(conditions, [1, 0, -1])\n",
    "#1 for positive response\n",
    "#0 for neutral response\n",
    "#-1 for negative response\n",
    "\n",
    "food.head()"
   ]
  },
  {
   "cell_type": "markdown",
   "metadata": {},
   "source": [
    "Now, we will take a look at the variable “Score” to see if majority of the customer ratings are positive or negative. Since on describing the data, we can see that the mean of the Score column is more than 4, it means that majority of the customer ratings are postiive. We can visualize this using the Plotly library"
   ]
  },
  {
   "cell_type": "code",
   "execution_count": null,
   "metadata": {},
   "outputs": [],
   "source": [
    "fig = px.histogram(food, x = \"Score\")\n",
    "fig.update_layout(title_text='Product Score')\n",
    "fig.show()"
   ]
  },
  {
   "cell_type": "markdown",
   "metadata": {},
   "source": [
    "Clearly, Postitive responses are way more than the negative ones. (Score=5 bar is sky-high)\n",
    "\n",
    "Since, we have the required response target variable for each review now, we do not need the Score column; so, we remove that.\n",
    "\n",
    "Finally, Food Reviews Dataset appears like this."
   ]
  },
  {
   "cell_type": "code",
   "execution_count": null,
   "metadata": {},
   "outputs": [],
   "source": [
    "del food['Score']\n",
    "\n",
    "food.head()"
   ]
  },
  {
   "cell_type": "markdown",
   "metadata": {},
   "source": [
    "### We will also be using First GOP Debate Twitter Tweets Data from Kaggle as well since it has a higher number of responses showing negative emotion. This dataset contains over 10000+ tweets maintaining a good complex mix of english vocabulary and informal criticism.\n",
    "\n",
    "#### (Mostly Contains Negative Responses)"
   ]
  },
  {
   "cell_type": "code",
   "execution_count": null,
   "metadata": {},
   "outputs": [],
   "source": [
    "tweets = pd.read_csv(\"Twitter Sentiments/Sentiment.csv\")\n",
    "tweets.head()"
   ]
  },
  {
   "cell_type": "code",
   "execution_count": null,
   "metadata": {},
   "outputs": [],
   "source": [
    "tweets.describe()"
   ]
  },
  {
   "cell_type": "markdown",
   "metadata": {},
   "source": [
    "Removing all the unnecessary columns leaving only the tweet itself and the designated sentiment with it."
   ]
  },
  {
   "cell_type": "code",
   "execution_count": null,
   "metadata": {},
   "outputs": [],
   "source": [
    "tweets = tweets[[\"sentiment\", \"text\"]]"
   ]
  },
  {
   "cell_type": "markdown",
   "metadata": {},
   "source": [
    "Just like dataframe \"food\", We must define each tweet as +1 (Positive), -1 (Negative) and 0 (Neutral). So, we define a new column named 'Response'"
   ]
  },
  {
   "cell_type": "code",
   "execution_count": null,
   "metadata": {},
   "outputs": [],
   "source": [
    "tweets_conditions = [(tweets['sentiment'] == \"Positive\"),\n",
    "                     (tweets['sentiment'] == \"Negative\"),\n",
    "                     (tweets['sentiment'] == \"Neutral\")]\n",
    "tweets['Response'] = np.select(tweets_conditions, [1, -1, 0])\n",
    "\n",
    "tweets.head()"
   ]
  },
  {
   "cell_type": "markdown",
   "metadata": {},
   "source": [
    "Now, we do not need the column \"sentiment\", similar to the Food Reviews Dataframe. Also, we need to equate the number of columns and their names, in every dataframe used, before concatenating them"
   ]
  },
  {
   "cell_type": "code",
   "execution_count": null,
   "metadata": {},
   "outputs": [],
   "source": [
    "del tweets[\"sentiment\"]\n",
    "tweets = tweets.rename(columns = {\"text\": \"Text\"})\n",
    "\n",
    "tweets.head()"
   ]
  },
  {
   "cell_type": "markdown",
   "metadata": {},
   "source": [
    "## Data Cleaning\n",
    "\n",
    "We will be using the text data to come up with predictions. First, we need to remove all punctuation and digits from the data."
   ]
  },
  {
   "cell_type": "code",
   "execution_count": null,
   "metadata": {},
   "outputs": [],
   "source": [
    "def remove_punctuation_and_digits(text):\n",
    "    final = \"\".join(u for u in text if u not in (\"?\", \".\", \";\", \":\", ',', \"!\",'\"', \"'\", '0', '1', '2', '3', '4', '5', '6', '7', '8', '9'))\n",
    "    return final\n",
    "\n",
    "food['Text'] = food['Text'].apply(remove_punctuation_and_digits)\n",
    "tweets['Text'] = tweets['Text'].apply(remove_punctuation_and_digits)\n",
    "\n",
    "# will take time"
   ]
  },
  {
   "cell_type": "markdown",
   "metadata": {},
   "source": [
    "Now, we have to work on removing all the hashtags, RTs, mentions and links from the dataset to transform it into just a string of words.\n",
    "\n",
    "Furthermore, we also need to remove all the stopwords from the data so as to focus on all the relevant words only, to determine the sentiment of the string."
   ]
  },
  {
   "cell_type": "code",
   "execution_count": null,
   "metadata": {},
   "outputs": [],
   "source": [
    "def remove_text_biome(text):\n",
    "    stopwords_set = set(stopwords.words(\"english\"))\n",
    "    words_filtered = [e.lower() for e in text.split() if len(e) >= 3]\n",
    "    words_cleaned = [word for word in words_filtered \n",
    "                     if 'http' not in word and not word.startswith('@') and not word.startswith('#') and word != 'RT']\n",
    "    words_without_stopwords = [word for word in words_cleaned if not word in stopwords_set]\n",
    "    return \" \".join(words_without_stopwords)\n",
    "\n",
    "food['Text'] = food['Text'].apply(remove_text_biome)\n",
    "tweets['Text'] = tweets['Text'].apply(remove_text_biome)\n"
   ]
  },
  {
   "cell_type": "code",
   "execution_count": null,
   "metadata": {},
   "outputs": [],
   "source": [
    "final_data = pd.concat([food, tweets])"
   ]
  },
  {
   "cell_type": "code",
   "execution_count": null,
   "metadata": {},
   "outputs": [],
   "source": [
    "final_data"
   ]
  },
  {
   "cell_type": "markdown",
   "metadata": {},
   "source": [
    "## Data Visualization\n",
    "\n",
    "#### Let us visualize the dataset for Food Reviews for better insight of what we need to analyze for text analysis\n",
    "\n",
    "We use stopwords which is a set including all the irrelevant grammatically-involved words in a sentence, which doesnt provide any impact to the sentiment of the text. We use stopwords to remove all the irrelevant words from the text first. Domain specific irrelevant words like \"br\", \"href\" can be added as well explicitly to the stopwords set.\n",
    "\n",
    "Now, we can create some wordclouds to see the most frequently used \"relevant\" words in the reviews."
   ]
  },
  {
   "cell_type": "markdown",
   "metadata": {},
   "source": [
    "#### WordCloud of all reviews Combined"
   ]
  },
  {
   "cell_type": "code",
   "execution_count": null,
   "metadata": {},
   "outputs": [],
   "source": [
    "stop_words = set(stopwords.words('english'))\n",
    "stop_words.update([\"br\", \"href\"])\n",
    "\n",
    "t_matter = \" \".join(review for review in food.Text)\n",
    "wordcloud = WordCloud(stopwords = stop_words).generate(t_matter)\n",
    "\n",
    "plt.imshow(wordcloud, interpolation = 'bilinear')\n",
    "plt.axis(\"off\")\n",
    "plt.savefig(\"wordcloud_all.png\")\n",
    "plt.show()\n",
    "\n",
    "# may take some time to work since it will process each review for different words."
   ]
  },
  {
   "cell_type": "markdown",
   "metadata": {},
   "source": [
    "#### Wordclouds can be used to identify which words can be proved helpful in identifying the sentiment of that review.\n",
    "\n",
    "Now, we need to build two wordclouds, one of them will contain the words used in postive sentiments and the other will contain the words in negative sentiments.\n",
    "\n",
    "To do this, we can create different dataframes for positive, neutral and negative responses respectively."
   ]
  },
  {
   "cell_type": "code",
   "execution_count": null,
   "metadata": {},
   "outputs": [],
   "source": [
    "food_positive = food[food[\"Response\"] == 1]\n",
    "food_negative = food[food[\"Response\"] == -1]\n",
    "food_neutral = food[food[\"Response\"] == 0]"
   ]
  },
  {
   "cell_type": "markdown",
   "metadata": {},
   "source": [
    "We will also use the colum \"Text\" for better acquisation of the review's sentiment and, efficient and more practical analysis\n",
    "\n",
    "### WordCloud for Postitive Responses"
   ]
  },
  {
   "cell_type": "code",
   "execution_count": null,
   "metadata": {},
   "outputs": [],
   "source": [
    "positive = \" \".join(str(review) for review in food_positive.Text)\n",
    "wordcloud_positive = WordCloud(stopwords = stop_words).generate(positive)\n",
    "\n",
    "plt.imshow(wordcloud_positive, interpolation = 'bilinear')\n",
    "plt.axis(\"off\")\n",
    "plt.savefig(\"wordcloud_pos.png\")\n",
    "plt.show()"
   ]
  },
  {
   "cell_type": "markdown",
   "metadata": {},
   "source": [
    "### WordCloud for Negative Responses"
   ]
  },
  {
   "cell_type": "code",
   "execution_count": null,
   "metadata": {},
   "outputs": [],
   "source": [
    "negative = \" \".join(str(review) for review in food_negative.Text)\n",
    "wordcloud_negative = WordCloud(stopwords = stop_words).generate(negative)\n",
    "\n",
    "plt.imshow(wordcloud_negative, interpolation='bilinear')\n",
    "plt.axis(\"off\")\n",
    "plt.savefig(\"wordcloud_neg.png\")\n",
    "plt.show()"
   ]
  },
  {
   "cell_type": "markdown",
   "metadata": {},
   "source": [
    "### WordCloud for Neutral Responses"
   ]
  },
  {
   "cell_type": "code",
   "execution_count": null,
   "metadata": {},
   "outputs": [],
   "source": [
    "neutral = \" \".join(str(review) for review in food_neutral.Text)\n",
    "wordcloud_neutral = WordCloud(stopwords = stop_words).generate(neutral)\n",
    "\n",
    "plt.imshow(wordcloud_neutral, interpolation=\"bilinear\")\n",
    "plt.axis(\"off\")\n",
    "plt.savefig(\"wordcloud_neut.png\")\n",
    "plt.show()"
   ]
  },
  {
   "cell_type": "markdown",
   "metadata": {},
   "source": [
    "On analysing the wordclouds, we can see that the words \"good\" and \"great\" are redundent in every type of response. Therefore, for better accuracy of the model, we can negate them from all."
   ]
  },
  {
   "cell_type": "code",
   "execution_count": null,
   "metadata": {},
   "outputs": [],
   "source": [
    "stop_words = set(stopwords.words('english'))\n",
    "stop_words.update(['br', 'href', 'good', 'great'])\n",
    "\n",
    "#New WordClouds without 'good' and 'great'\n",
    "\n",
    "pos = \" \".join(str(review) for review in food_positive.Text)\n",
    "wordcloud_pos = WordCloud(stopwords = stop_words).generate(pos)\n",
    "neg = \" \".join(str(review) for review in food_negative.Text)\n",
    "wordcloud_neg = WordCloud(stopwords = stop_words).generate(neg)\n",
    "neut = \" \".join(str(review) for review in food_neutral.Text)\n",
    "wordcloud_neut = WordCloud(stopwords = stop_words).generate(neut)"
   ]
  },
  {
   "cell_type": "code",
   "execution_count": null,
   "metadata": {},
   "outputs": [],
   "source": [
    "#Visualizing all wordclouds after removal of the words 'great' and 'good'\n",
    "\n",
    "plt.imshow(wordcloud_pos, interpolation = 'bilinear')\n",
    "plt.axis(\"off\")\n",
    "plt.savefig(\"wordcloud_positive.png\")\n",
    "plt.title(\"Positive Words\")\n",
    "plt.show()\n",
    "plt.imshow(wordcloud_neg, interpolation='bilinear')\n",
    "plt.axis(\"off\")\n",
    "plt.savefig(\"wordcloud_negative.png\")\n",
    "plt.title(\"Negative Words\")\n",
    "plt.show()\n",
    "plt.imshow(wordcloud_neut, interpolation=\"bilinear\")\n",
    "plt.axis(\"off\")\n",
    "plt.savefig(\"wordcloud_neutral.png\")\n",
    "plt.title(\"Neutral Words\")\n",
    "plt.show()"
   ]
  },
  {
   "cell_type": "markdown",
   "metadata": {},
   "source": [
    "##### As seen above in the above worclouds\n",
    "\n",
    "The positive sentiments' wordcloud was full of positive words, such as “love”, “best”, and “delicious.”\n",
    "\n",
    "The negative sentiments' wordcloud was filled with mostly negative words, such as “disappointed”, \"buy\" and “yuck.”\n",
    "\n",
    "The words “good” and “great” initially appeared in the negative sentiment word cloud, despite being positive words. This is probably because they were used in a negative context, such as “not good.” Due to this, I have removed those two words from the wordclouds."
   ]
  },
  {
   "cell_type": "markdown",
   "metadata": {},
   "source": [
    "## Building the Model"
   ]
  },
  {
   "cell_type": "markdown",
   "metadata": {},
   "source": [
    "Finally, we can build the sentiment analysis model.\n",
    "This is a classification task, so we will train a simple logistic regression model to do it.\n",
    "This model will take textual data in as input. It will then come up with a prediction on whether the review is positive, neutral or negative."
   ]
  },
  {
   "cell_type": "markdown",
   "metadata": {},
   "source": [
    "### Dataset Assignment\n",
    "\n",
    "We will now split the data frame into train and test sets. 80% of the data will be used for training, and 20% will be used for testing."
   ]
  },
  {
   "cell_type": "code",
   "execution_count": null,
   "metadata": {},
   "outputs": [],
   "source": [
    "# random split train and test data\n",
    "\n",
    "indices = final_data.index\n",
    "final_data['r_number'] = np.random.randn(len(indices))\n",
    "train_data = final_data[final_data['r_number'] <= 0.8]\n",
    "test_data = final_data[final_data['r_number'] > 0.8]"
   ]
  },
  {
   "cell_type": "code",
   "execution_count": null,
   "metadata": {},
   "outputs": [],
   "source": [
    "train_data"
   ]
  },
  {
   "cell_type": "code",
   "execution_count": null,
   "metadata": {},
   "outputs": [],
   "source": [
    "test_data"
   ]
  },
  {
   "cell_type": "markdown",
   "metadata": {},
   "source": [
    "### Create a Bag-Of-Words\n",
    "\n",
    "Now, we shall use a Tfid Vectorizer from the Scikit-learn library.\n",
    "\n",
    "The Tfid Vectorizer will transform the text in our data frame into a bag of words model, which will contain a sparse matrix of integers. The number of occurrences of each word will be counted and stored.\n",
    "\n",
    "We will need to convert the text into a bag-of-words model since the logistic regression algorithm cannot understand human text."
   ]
  },
  {
   "cell_type": "code",
   "execution_count": null,
   "metadata": {},
   "outputs": [],
   "source": [
    "# TfidVectorizer Implementation\n",
    "\n",
    "from sklearn.feature_extraction.text import TfidfVectorizer\n",
    "\n",
    "vectorizer = TfidfVectorizer(token_pattern=r'\\b\\w+\\b')\n",
    "\n",
    "train_matrix = vectorizer.fit_transform(train_data['Text'])\n",
    "test_matrix = vectorizer.transform(test_data['Text'])"
   ]
  },
  {
   "cell_type": "markdown",
   "metadata": {},
   "source": [
    "### Importing the Logistic regression model from scikit-learn"
   ]
  },
  {
   "cell_type": "code",
   "execution_count": null,
   "metadata": {},
   "outputs": [],
   "source": [
    "# Logistic Regression\n",
    "\n",
    "from sklearn.linear_model import LogisticRegression\n",
    "\n",
    "lr = LogisticRegression(max_iter = 1000)\n",
    "\n",
    "# max_iter = 1000 or mode for better convergence of the model's accuracy, will extend if made higher,\n",
    "# but it already has reached the convergence range."
   ]
  },
  {
   "cell_type": "markdown",
   "metadata": {},
   "source": [
    "### Assign the features and Targets to their respective variables"
   ]
  },
  {
   "cell_type": "code",
   "execution_count": null,
   "metadata": {},
   "outputs": [],
   "source": [
    "X_train = train_matrix\n",
    "X_test = test_matrix\n",
    "\n",
    "y_train = train_data['Response']\n",
    "y_test = test_data['Response']"
   ]
  },
  {
   "cell_type": "markdown",
   "metadata": {},
   "source": [
    "### Fit the data to the LR model and Predict the outcome of the model"
   ]
  },
  {
   "cell_type": "code",
   "execution_count": null,
   "metadata": {},
   "outputs": [],
   "source": [
    "lr.fit(X_train,y_train)\n",
    "\n",
    "predictions = lr.predict(X_test)"
   ]
  },
  {
   "cell_type": "markdown",
   "metadata": {},
   "source": [
    "Now, we have trained the logistics regression model for sentiment analysis."
   ]
  },
  {
   "cell_type": "markdown",
   "metadata": {},
   "source": [
    "## Testing the Model\n",
    "\n",
    "Let's Test the model now using confusion matrix and classification reports"
   ]
  },
  {
   "cell_type": "code",
   "execution_count": null,
   "metadata": {},
   "outputs": [],
   "source": [
    "# find accuracy, precision, recall:\n",
    "\n",
    "from sklearn.metrics import confusion_matrix,classification_report\n",
    "\n",
    "new = np.asarray(y_test)\n",
    "\n",
    "confusion_matrix(predictions,y_test)"
   ]
  },
  {
   "cell_type": "code",
   "execution_count": null,
   "metadata": {},
   "outputs": [],
   "source": [
    "print(classification_report(predictions,y_test))"
   ]
  },
  {
   "cell_type": "markdown",
   "metadata": {},
   "source": [
    "Accuracy improvement Statistics:\n",
    "\n",
    "Using Reviews Dataset Only using Naive Bayes classifier: 76%\n",
    "\n",
    "Using Reviews Dataset Only using Logistic regression: 86%\n",
    "\n",
    "Using Reviews Dataset and Twitter Dataset using Logistic regression: 88%\n",
    "\n",
    "\n",
    "\n",
    "As we can assess from the above classification report and statistics, the Accuracy for the above sentiment analysis model is around 88%"
   ]
  },
  {
   "cell_type": "markdown",
   "metadata": {},
   "source": [
    "## Model Showcase"
   ]
  },
  {
   "cell_type": "markdown",
   "metadata": {},
   "source": [
    "#### Let's Consider an example String (Review)"
   ]
  },
  {
   "cell_type": "code",
   "execution_count": null,
   "metadata": {},
   "outputs": [],
   "source": [
    "l = [\"I'm so happy tonight!\", \"You are an awful person, Matt!\", \"Jeez, Control yourself man!\"]\n",
    "example_x = pd.Series(l)\n",
    "example_x"
   ]
  },
  {
   "cell_type": "markdown",
   "metadata": {},
   "source": [
    "#### We follow the folllowing operations then:\n",
    "\n",
    "1. Extract relevant feature(s) from the normal text using the pre-processing functions\n",
    "2. Use TfidVectorizer to define a relatively organized list of those features with a sparse matrix containg about 30000+ columns and rows for vocabulary analysis\n",
    "3. when the pre-processing is completed, we feed the input to the model to predict the sentiment."
   ]
  },
  {
   "cell_type": "markdown",
   "metadata": {},
   "source": [
    "Vectorizer used: TfidVectorizer and Count Vectorizer"
   ]
  },
  {
   "cell_type": "code",
   "execution_count": null,
   "metadata": {},
   "outputs": [],
   "source": [
    "example_x = example_x.apply(remove_punctuation_and_digits)\n",
    "example_x = example_x.apply(remove_text_biome)\n",
    "example_x"
   ]
  },
  {
   "cell_type": "code",
   "execution_count": null,
   "metadata": {},
   "outputs": [],
   "source": [
    "example_fx = vectorizer.transform(example_x)\n",
    "example_p = lr.predict(example_fx)"
   ]
  },
  {
   "cell_type": "markdown",
   "metadata": {},
   "source": [
    "Now, we print the resultant sentiment, as per the prediction and designation: 1(+ve),  -1(-ve),  0(±ve)"
   ]
  },
  {
   "cell_type": "code",
   "execution_count": null,
   "metadata": {},
   "outputs": [],
   "source": [
    "for x in range(len(example_p)):\n",
    "    if example_p[x] == 1:\n",
    "        print(\"The Sentiment for the text: \\'\" + l[x] + \"\\' appears to be Positive\")\n",
    "    elif example_p[x] == -1:\n",
    "        print(\"The Sentiment for the text: \\'\" + l[x] + \"\\' appears to be Negative\")\n",
    "    else:\n",
    "        print(\"The Sentiment for the text: \\'\" + l[x] + \"\\' appears to be Neutral\")"
   ]
  }
 ],
 "metadata": {
  "kernelspec": {
   "display_name": "Python 3",
   "language": "python",
   "name": "python3"
  },
  "language_info": {
   "codemirror_mode": {
    "name": "ipython",
    "version": 3
   },
   "file_extension": ".py",
   "mimetype": "text/x-python",
   "name": "python",
   "nbconvert_exporter": "python",
   "pygments_lexer": "ipython3",
   "version": "3.8.5"
  }
 },
 "nbformat": 4,
 "nbformat_minor": 4
}
